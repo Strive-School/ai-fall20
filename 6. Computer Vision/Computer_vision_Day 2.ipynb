{
 "cells": [
  {
   "cell_type": "markdown",
   "metadata": {
    "code_folding": []
   },
   "source": [
    "# Computer Vision Day 2\n"
   ]
  },
  {
   "cell_type": "markdown",
   "metadata": {},
   "source": [
    "### Import statements"
   ]
  },
  {
   "cell_type": "code",
   "execution_count": 5,
   "metadata": {
    "ExecuteTime": {
     "end_time": "2020-02-15T09:14:06.475524Z",
     "start_time": "2020-02-15T09:14:06.427139Z"
    }
   },
   "outputs": [
    {
     "ename": "ModuleNotFoundError",
     "evalue": "No module named 'matplotlib'",
     "output_type": "error",
     "traceback": [
      "\u001b[0;31m---------------------------------------------------------------------------\u001b[0m",
      "\u001b[0;31mModuleNotFoundError\u001b[0m                       Traceback (most recent call last)",
      "\u001b[0;32m<ipython-input-5-e43022223b8c>\u001b[0m in \u001b[0;36m<module>\u001b[0;34m\u001b[0m\n\u001b[1;32m      1\u001b[0m \u001b[0;32mimport\u001b[0m \u001b[0mcv2\u001b[0m\u001b[0;34m\u001b[0m\u001b[0;34m\u001b[0m\u001b[0m\n\u001b[1;32m      2\u001b[0m \u001b[0;32mimport\u001b[0m \u001b[0mnumpy\u001b[0m \u001b[0;32mas\u001b[0m \u001b[0mnp\u001b[0m\u001b[0;34m\u001b[0m\u001b[0;34m\u001b[0m\u001b[0m\n\u001b[0;32m----> 3\u001b[0;31m \u001b[0;32mimport\u001b[0m \u001b[0mmatplotlib\u001b[0m\u001b[0;34m.\u001b[0m\u001b[0mpyplot\u001b[0m \u001b[0;32mas\u001b[0m \u001b[0mplt\u001b[0m\u001b[0;34m\u001b[0m\u001b[0;34m\u001b[0m\u001b[0m\n\u001b[0m",
      "\u001b[0;31mModuleNotFoundError\u001b[0m: No module named 'matplotlib'"
     ]
    }
   ],
   "source": [
    "import cv2\n",
    "import numpy as np\n",
    "import matplotlib.pyplot as plt"
   ]
  },
  {
   "cell_type": "code",
   "execution_count": 3,
   "metadata": {},
   "outputs": [
    {
     "name": "stdout",
     "output_type": "stream",
     "text": [
      "/usr/bin/python\r\n"
     ]
    }
   ],
   "source": [
    "!pip install matplotlib"
   ]
  },
  {
   "cell_type": "markdown",
   "metadata": {},
   "source": [
    "### Drawing lines"
   ]
  },
  {
   "cell_type": "code",
   "execution_count": 2,
   "metadata": {
    "ExecuteTime": {
     "end_time": "2020-02-15T09:38:40.721765Z",
     "start_time": "2020-02-15T09:38:39.828422Z"
    }
   },
   "outputs": [
    {
     "ename": "NameError",
     "evalue": "name 'img_copy' is not defined",
     "output_type": "error",
     "traceback": [
      "\u001b[0;31m---------------------------------------------------------------------------\u001b[0m",
      "\u001b[0;31mNameError\u001b[0m                                 Traceback (most recent call last)",
      "\u001b[0;32m<ipython-input-2-2acf9f7983e6>\u001b[0m in \u001b[0;36m<module>\u001b[0;34m\u001b[0m\n\u001b[1;32m      1\u001b[0m \u001b[0mgreen\u001b[0m \u001b[0;34m=\u001b[0m \u001b[0;34m(\u001b[0m\u001b[0;36m255\u001b[0m\u001b[0;34m,\u001b[0m\u001b[0;36m0\u001b[0m\u001b[0;34m,\u001b[0m\u001b[0;36m0\u001b[0m\u001b[0;34m)\u001b[0m\u001b[0;34m\u001b[0m\u001b[0;34m\u001b[0m\u001b[0m\n\u001b[1;32m      2\u001b[0m \u001b[0;34m\u001b[0m\u001b[0m\n\u001b[0;32m----> 3\u001b[0;31m \u001b[0mcv2\u001b[0m\u001b[0;34m.\u001b[0m\u001b[0mline\u001b[0m\u001b[0;34m(\u001b[0m\u001b[0mimg_copy\u001b[0m\u001b[0;34m,\u001b[0m\u001b[0;34m(\u001b[0m\u001b[0;36m800\u001b[0m\u001b[0;34m,\u001b[0m\u001b[0;36m20\u001b[0m\u001b[0;34m)\u001b[0m\u001b[0;34m,\u001b[0m\u001b[0;34m(\u001b[0m\u001b[0;36m1000\u001b[0m\u001b[0;34m,\u001b[0m\u001b[0;36m400\u001b[0m\u001b[0;34m)\u001b[0m\u001b[0;34m,\u001b[0m\u001b[0mgreen\u001b[0m\u001b[0;34m,\u001b[0m\u001b[0;36m5\u001b[0m\u001b[0;34m)\u001b[0m\u001b[0;34m\u001b[0m\u001b[0;34m\u001b[0m\u001b[0m\n\u001b[0m\u001b[1;32m      4\u001b[0m \u001b[0;34m\u001b[0m\u001b[0m\n\u001b[1;32m      5\u001b[0m \u001b[0mplt\u001b[0m\u001b[0;34m.\u001b[0m\u001b[0mfigure\u001b[0m\u001b[0;34m(\u001b[0m\u001b[0mfigsize\u001b[0m \u001b[0;34m=\u001b[0m \u001b[0;34m(\u001b[0m\u001b[0;36m20\u001b[0m\u001b[0;34m,\u001b[0m\u001b[0;36m15\u001b[0m\u001b[0;34m)\u001b[0m\u001b[0;34m)\u001b[0m\u001b[0;34m\u001b[0m\u001b[0;34m\u001b[0m\u001b[0m\n",
      "\u001b[0;31mNameError\u001b[0m: name 'img_copy' is not defined"
     ]
    }
   ],
   "source": [
    "green = (255,0,0)\n",
    "\n",
    "cv2.line(img_copy,(800,20),(1000,400),green,5)\n",
    "\n",
    "plt.figure(figsize = (20,15))\n",
    "plt.imshow(img_copy)"
   ]
  },
  {
   "cell_type": "markdown",
   "metadata": {},
   "source": [
    "### Rectangles"
   ]
  },
  {
   "cell_type": "code",
   "execution_count": null,
   "metadata": {
    "ExecuteTime": {
     "end_time": "2020-02-15T09:40:47.004167Z",
     "start_time": "2020-02-15T09:40:46.992791Z"
    }
   },
   "outputs": [],
   "source": [
    "# rectangle(img, pt1, pt2, color[, thickness[, lineType[, shift]]]) -> img\n",
    "cv2.rectangle(img_copy,(240,220),(550,510),green,3);"
   ]
  },
  {
   "cell_type": "code",
   "execution_count": null,
   "metadata": {
    "ExecuteTime": {
     "end_time": "2020-02-15T09:40:49.265692Z",
     "start_time": "2020-02-15T09:40:48.446354Z"
    },
    "scrolled": false
   },
   "outputs": [],
   "source": [
    "plt.figure(figsize = (20,15))\n",
    "plt.imshow(img_copy)"
   ]
  },
  {
   "cell_type": "code",
   "execution_count": null,
   "metadata": {
    "ExecuteTime": {
     "end_time": "2020-02-15T09:41:39.866407Z",
     "start_time": "2020-02-15T09:41:39.018709Z"
    }
   },
   "outputs": [],
   "source": [
    "cv2.rectangle(img_copy,(20,600),(1109,700),(127,127,127),-1);\n",
    "\n",
    "plt.figure(figsize = (20,15))\n",
    "plt.imshow(img_copy)"
   ]
  },
  {
   "cell_type": "markdown",
   "metadata": {},
   "source": [
    "### Circles"
   ]
  },
  {
   "cell_type": "code",
   "execution_count": null,
   "metadata": {
    "ExecuteTime": {
     "end_time": "2020-02-15T09:43:32.430250Z",
     "start_time": "2020-02-15T09:43:31.636424Z"
    }
   },
   "outputs": [],
   "source": [
    "## circle(img, center, radius, color[, thickness[, lineType[, shift]]]) -> img\n",
    "cv2.circle(img_copy,(200,63), 50, (255,243,130), -1)\n",
    "plt.figure(figsize = (20,15))\n",
    "plt.imshow(img_copy)"
   ]
  },
  {
   "cell_type": "code",
   "execution_count": null,
   "metadata": {
    "ExecuteTime": {
     "end_time": "2020-02-15T09:45:01.183088Z",
     "start_time": "2020-02-15T09:45:00.391242Z"
    },
    "scrolled": false
   },
   "outputs": [],
   "source": [
    "cv2.circle(img_copy,(200,63), 50, (255,131,0), 2)\n",
    "plt.figure(figsize = (20,15))\n",
    "plt.imshow(img_copy);"
   ]
  },
  {
   "cell_type": "markdown",
   "metadata": {},
   "source": [
    "### Ellipses"
   ]
  },
  {
   "cell_type": "code",
   "execution_count": null,
   "metadata": {
    "ExecuteTime": {
     "end_time": "2020-02-15T09:45:24.604320Z",
     "start_time": "2020-02-15T09:45:23.867554Z"
    },
    "scrolled": false
   },
   "outputs": [],
   "source": [
    "# ellipse(img, center, axes, angle, startAngle, endAngle, color[, thickness[, lineType[, shift]]]) -> img\n",
    "\n",
    "cv2.ellipse(img_copy,(256,256),(220,140),0,0,180,(200,200,0),2)\n",
    "plt.figure(figsize = (20,15))\n",
    "plt.imshow(img_copy);"
   ]
  },
  {
   "cell_type": "markdown",
   "metadata": {},
   "source": [
    "### Poligons"
   ]
  },
  {
   "cell_type": "code",
   "execution_count": null,
   "metadata": {
    "ExecuteTime": {
     "end_time": "2020-02-15T09:46:07.427824Z",
     "start_time": "2020-02-15T09:46:07.407515Z"
    }
   },
   "outputs": [],
   "source": [
    "pts = np.array([[10,5],[120,130],[170,120],[250,210]], np.int32)\n",
    "print(pts)"
   ]
  },
  {
   "cell_type": "code",
   "execution_count": null,
   "metadata": {
    "ExecuteTime": {
     "end_time": "2020-02-15T09:46:18.098670Z",
     "start_time": "2020-02-15T09:46:18.093927Z"
    }
   },
   "outputs": [],
   "source": [
    "pts2 = np.array([[[10,5],[120,130],[170,120],[250,210]]], np.int32)\n"
   ]
  },
  {
   "cell_type": "code",
   "execution_count": null,
   "metadata": {
    "ExecuteTime": {
     "end_time": "2020-02-15T09:46:18.520695Z",
     "start_time": "2020-02-15T09:46:18.516190Z"
    }
   },
   "outputs": [],
   "source": [
    "pts = pts.reshape((-1,1,2))\n",
    "print(pts)"
   ]
  },
  {
   "cell_type": "code",
   "execution_count": null,
   "metadata": {
    "ExecuteTime": {
     "end_time": "2020-02-15T09:46:54.459530Z",
     "start_time": "2020-02-15T09:46:53.738712Z"
    }
   },
   "outputs": [],
   "source": [
    "cv2.polylines(img_copy,[pts],False,(255,0,0),3)\n",
    "plt.figure(figsize = (20,15))\n",
    "plt.imshow(img_copy);"
   ]
  },
  {
   "cell_type": "markdown",
   "metadata": {},
   "source": [
    "### Adding text to images"
   ]
  },
  {
   "cell_type": "code",
   "execution_count": null,
   "metadata": {
    "ExecuteTime": {
     "end_time": "2020-02-15T09:48:37.154651Z",
     "start_time": "2020-02-15T09:48:36.325302Z"
    },
    "scrolled": false
   },
   "outputs": [],
   "source": [
    "# putText(img, text, org, fontFace, fontScale, color[, thickness[, lineType[, bottomLeftOrigin]]]) -> img\n",
    "img_copy = rgb_day_img.copy()\n",
    "x = 50\n",
    "\n",
    "font = cv2.FONT_HERSHEY_COMPLEX\n",
    "cv2.putText(img_copy,'saturdays.ai',(x,100), font, 3,(0,0,0),4,cv2.LINE_AA)\n",
    "\n",
    "font = cv2.FONT_HERSHEY_COMPLEX_SMALL\n",
    "cv2.putText(img_copy,'saturdays.ai',(x,180), font, 3,(0,0,0),4,cv2.LINE_AA)\n",
    "\n",
    "font = cv2.FONT_HERSHEY_DUPLEX\n",
    "cv2.putText(img_copy,'saturdays.ai',(x,280), font, 3,(255,255,255),4,cv2.LINE_AA)\n",
    "\n",
    "font = cv2.FONT_HERSHEY_PLAIN\n",
    "cv2.putText(img_copy,'saturdays.ai',(x,350), font, 3,(255,255,255),4,cv2.LINE_AA)\n",
    "\n",
    "font = cv2.FONT_HERSHEY_SCRIPT_COMPLEX\n",
    "cv2.putText(img_copy,'saturdays.ai',(x,450), font, 3,(255,255,255),4,cv2.LINE_AA)\n",
    "\n",
    "font = cv2.FONT_HERSHEY_SCRIPT_SIMPLEX\n",
    "cv2.putText(img_copy,'saturdays.ai',(x,540), font, 3,(255,255,255),4,cv2.LINE_AA)\n",
    "\n",
    "font = cv2.FONT_HERSHEY_SIMPLEX\n",
    "cv2.putText(img_copy,'saturdays.ai',(x,630), font, 3,(255,255,255),4,cv2.LINE_AA)\n",
    "\n",
    "font = cv2.FONT_HERSHEY_TRIPLEX\n",
    "cv2.putText(img_copy,'saturdays.ai',(x,720), font, 3,(255,255,255),4,cv2.LINE_AA)\n",
    "\n",
    "plt.figure(figsize = (20,15))\n",
    "plt.imshow(img_copy);"
   ]
  },
  {
   "cell_type": "markdown",
   "metadata": {},
   "source": [
    "#### Wait what? openCV only supports 8 fonts?"
   ]
  },
  {
   "cell_type": "markdown",
   "metadata": {},
   "source": [
    "Pillow to the rescue!, you will need to install it though..."
   ]
  },
  {
   "cell_type": "markdown",
   "metadata": {},
   "source": [
    "`pip install Pillow`  \n",
    "`conda install Pillow`"
   ]
  },
  {
   "cell_type": "code",
   "execution_count": null,
   "metadata": {
    "ExecuteTime": {
     "end_time": "2019-11-19T14:05:28.127230Z",
     "start_time": "2019-11-19T14:05:28.062660Z"
    }
   },
   "outputs": [],
   "source": [
    "from PIL import ImageFont, ImageDraw, Image  "
   ]
  },
  {
   "cell_type": "code",
   "execution_count": null,
   "metadata": {
    "ExecuteTime": {
     "end_time": "2019-11-19T14:05:29.158204Z",
     "start_time": "2019-11-19T14:05:28.275617Z"
    }
   },
   "outputs": [],
   "source": [
    "text_to_show = \"Custom Font\"\n",
    "   \n",
    "# Load image in OpenCV  \n",
    "image = rgb_day_img.copy()\n",
    "   \n",
    "# Convert the image to RGB (OpenCV uses BGR)  \n",
    "cv2_im_rgb = cv2.cvtColor(image,cv2.COLOR_BGR2RGB)  \n",
    "   \n",
    "# Transform the cv2 image to PIL  \n",
    "pil_im = Image.fromarray(cv2_im_rgb)  \n",
    "   \n",
    "draw = ImageDraw.Draw(pil_im)  \n",
    "\n",
    "# use a truetype font  \n",
    "#font = ImageFont.truetype(\"impact.ttf\", 80)    \n",
    "font = ImageFont.truetype(\"Welcome.ttf\", 80)    \n",
    "\n",
    "draw.text((50, 600), text_to_show, (255,255,255), font=font)  \n",
    "   \n",
    "# Get back the image to OpenCV  \n",
    "cv2_im_processed = cv2.cvtColor(np.array(pil_im), cv2.COLOR_RGB2BGR)  \n",
    "\n",
    "plt.figure(figsize = (20,15))\n",
    "plt.imshow(cv2_im_processed);"
   ]
  },
  {
   "cell_type": "markdown",
   "metadata": {},
   "source": [
    "### We want some alpha"
   ]
  },
  {
   "cell_type": "code",
   "execution_count": null,
   "metadata": {
    "ExecuteTime": {
     "end_time": "2019-11-19T14:13:36.118430Z",
     "start_time": "2019-11-19T14:13:35.248063Z"
    },
    "scrolled": false
   },
   "outputs": [],
   "source": [
    "img_copy = rgb_day_img.copy()\n",
    " \n",
    "# (1) create a copy of the original:\n",
    "overlay = img_copy.copy()\n",
    "\n",
    "# (2) draw shapes:\n",
    "cv2.rectangle(overlay,(0,580),(1129,710),(255,255,255),-1);\n",
    "\n",
    "# (3) blend with the original:\n",
    "opacity = 0.3\n",
    "cv2.addWeighted(overlay, opacity, img_copy, 1 - opacity, 0, img_copy)\n",
    "    \n",
    "plt.figure(figsize = (20,15))\n",
    "plt.imshow(img_copy);"
   ]
  },
  {
   "cell_type": "code",
   "execution_count": null,
   "metadata": {
    "ExecuteTime": {
     "end_time": "2019-11-19T14:14:14.071407Z",
     "start_time": "2019-11-19T14:14:13.215201Z"
    },
    "scrolled": false
   },
   "outputs": [],
   "source": [
    "font = cv2.FONT_HERSHEY_SCRIPT_COMPLEX\n",
    "cv2.putText(img_copy,'Have a nice day!',(240,660), font, 3,(0,0,0),3,cv2.LINE_AA)\n",
    "\n",
    "plt.figure(figsize = (20,15))\n",
    "plt.imshow(img_copy);"
   ]
  },
  {
   "cell_type": "markdown",
   "metadata": {},
   "source": [
    "## Color Spaces"
   ]
  },
  {
   "cell_type": "markdown",
   "metadata": {},
   "source": [
    "### BGR Spliting the color channels"
   ]
  },
  {
   "cell_type": "code",
   "execution_count": 3,
   "metadata": {
    "ExecuteTime": {
     "end_time": "2019-11-19T14:23:21.069716Z",
     "start_time": "2019-11-19T14:22:29.674760Z"
    }
   },
   "outputs": [
    {
     "ename": "NameError",
     "evalue": "name 'day1' is not defined",
     "output_type": "error",
     "traceback": [
      "\u001b[0;31m---------------------------------------------------------------------------\u001b[0m",
      "\u001b[0;31mNameError\u001b[0m                                 Traceback (most recent call last)",
      "\u001b[0;32m<ipython-input-3-d78ff20a91f3>\u001b[0m in \u001b[0;36m<module>\u001b[0;34m\u001b[0m\n\u001b[0;32m----> 1\u001b[0;31m \u001b[0mbgr_img\u001b[0m \u001b[0;34m=\u001b[0m \u001b[0mcv2\u001b[0m\u001b[0;34m.\u001b[0m\u001b[0mimread\u001b[0m\u001b[0;34m(\u001b[0m\u001b[0mday1\u001b[0m\u001b[0;34m)\u001b[0m\u001b[0;34m\u001b[0m\u001b[0;34m\u001b[0m\u001b[0m\n\u001b[0m\u001b[1;32m      2\u001b[0m \u001b[0mB\u001b[0m\u001b[0;34m,\u001b[0m \u001b[0mG\u001b[0m\u001b[0;34m,\u001b[0m \u001b[0mR\u001b[0m \u001b[0;34m=\u001b[0m \u001b[0mcv2\u001b[0m\u001b[0;34m.\u001b[0m\u001b[0msplit\u001b[0m\u001b[0;34m(\u001b[0m\u001b[0mbgr_img\u001b[0m\u001b[0;34m)\u001b[0m\u001b[0;34m\u001b[0m\u001b[0;34m\u001b[0m\u001b[0m\n\u001b[1;32m      3\u001b[0m \u001b[0;34m\u001b[0m\u001b[0m\n\u001b[1;32m      4\u001b[0m \u001b[0mcv2\u001b[0m\u001b[0;34m.\u001b[0m\u001b[0mimshow\u001b[0m\u001b[0;34m(\u001b[0m\u001b[0;34m\"B\"\u001b[0m\u001b[0;34m,\u001b[0m\u001b[0mB\u001b[0m\u001b[0;34m)\u001b[0m\u001b[0;34m\u001b[0m\u001b[0;34m\u001b[0m\u001b[0m\n\u001b[1;32m      5\u001b[0m \u001b[0mcv2\u001b[0m\u001b[0;34m.\u001b[0m\u001b[0mwaitKey\u001b[0m\u001b[0;34m(\u001b[0m\u001b[0;36m0\u001b[0m\u001b[0;34m)\u001b[0m\u001b[0;34m\u001b[0m\u001b[0;34m\u001b[0m\u001b[0m\n",
      "\u001b[0;31mNameError\u001b[0m: name 'day1' is not defined"
     ]
    }
   ],
   "source": [
    "bgr_img = cv2.imread(day1)\n",
    "B, G, R = cv2.split(bgr_img)\n",
    "\n",
    "cv2.imshow(\"B\",B)\n",
    "cv2.waitKey(0) \n",
    "cv2.destroyAllWindows()\n",
    "cv2.waitKey(1) "
   ]
  },
  {
   "cell_type": "code",
   "execution_count": 4,
   "metadata": {
    "ExecuteTime": {
     "end_time": "2019-11-19T14:23:44.812375Z",
     "start_time": "2019-11-19T14:23:29.745242Z"
    }
   },
   "outputs": [
    {
     "ename": "NameError",
     "evalue": "name 'B' is not defined",
     "output_type": "error",
     "traceback": [
      "\u001b[0;31m---------------------------------------------------------------------------\u001b[0m",
      "\u001b[0;31mNameError\u001b[0m                                 Traceback (most recent call last)",
      "\u001b[0;32m<ipython-input-4-4469a6dbb337>\u001b[0m in \u001b[0;36m<module>\u001b[0;34m\u001b[0m\n\u001b[0;32m----> 1\u001b[0;31m \u001b[0mcv2\u001b[0m\u001b[0;34m.\u001b[0m\u001b[0mimshow\u001b[0m\u001b[0;34m(\u001b[0m\u001b[0;34m\"B\"\u001b[0m\u001b[0;34m,\u001b[0m\u001b[0mB\u001b[0m\u001b[0;34m)\u001b[0m\u001b[0;34m\u001b[0m\u001b[0;34m\u001b[0m\u001b[0m\n\u001b[0m\u001b[1;32m      2\u001b[0m \u001b[0mcv2\u001b[0m\u001b[0;34m.\u001b[0m\u001b[0mwaitKey\u001b[0m\u001b[0;34m(\u001b[0m\u001b[0;36m0\u001b[0m\u001b[0;34m)\u001b[0m\u001b[0;34m\u001b[0m\u001b[0;34m\u001b[0m\u001b[0m\n\u001b[1;32m      3\u001b[0m \u001b[0mcv2\u001b[0m\u001b[0;34m.\u001b[0m\u001b[0mdestroyAllWindows\u001b[0m\u001b[0;34m(\u001b[0m\u001b[0;34m)\u001b[0m\u001b[0;34m\u001b[0m\u001b[0;34m\u001b[0m\u001b[0m\n\u001b[1;32m      4\u001b[0m \u001b[0mcv2\u001b[0m\u001b[0;34m.\u001b[0m\u001b[0mwaitKey\u001b[0m\u001b[0;34m(\u001b[0m\u001b[0;36m1\u001b[0m\u001b[0;34m)\u001b[0m\u001b[0;34m\u001b[0m\u001b[0;34m\u001b[0m\u001b[0m\n\u001b[1;32m      5\u001b[0m \u001b[0;34m\u001b[0m\u001b[0m\n",
      "\u001b[0;31mNameError\u001b[0m: name 'B' is not defined"
     ]
    }
   ],
   "source": [
    "cv2.imshow(\"B\",B)\n",
    "cv2.waitKey(0) \n",
    "cv2.destroyAllWindows()\n",
    "cv2.waitKey(1) \n",
    "\n",
    "cv2.imshow(\"G\",G)\n",
    "cv2.waitKey(0) \n",
    "cv2.destroyAllWindows()\n",
    "\n",
    "cv2.imshow(\"R\",R)\n",
    "cv2.waitKey(0) \n",
    "cv2.destroyAllWindows()\n",
    "cv2.waitKey(1) "
   ]
  },
  {
   "cell_type": "markdown",
   "metadata": {},
   "source": [
    "#### Merging the color channels"
   ]
  },
  {
   "cell_type": "code",
   "execution_count": 5,
   "metadata": {
    "ExecuteTime": {
     "end_time": "2019-11-18T14:20:18.472726Z",
     "start_time": "2019-11-18T14:20:11.815285Z"
    }
   },
   "outputs": [
    {
     "ename": "NameError",
     "evalue": "name 'B' is not defined",
     "output_type": "error",
     "traceback": [
      "\u001b[0;31m---------------------------------------------------------------------------\u001b[0m",
      "\u001b[0;31mNameError\u001b[0m                                 Traceback (most recent call last)",
      "\u001b[0;32m<ipython-input-5-de40351ced0f>\u001b[0m in \u001b[0;36m<module>\u001b[0;34m\u001b[0m\n\u001b[0;32m----> 1\u001b[0;31m \u001b[0mmerged\u001b[0m \u001b[0;34m=\u001b[0m \u001b[0mcv2\u001b[0m\u001b[0;34m.\u001b[0m\u001b[0mmerge\u001b[0m\u001b[0;34m(\u001b[0m\u001b[0;34m[\u001b[0m\u001b[0mB\u001b[0m\u001b[0;34m,\u001b[0m\u001b[0mG\u001b[0m\u001b[0;34m+\u001b[0m\u001b[0;36m100\u001b[0m\u001b[0;34m,\u001b[0m\u001b[0mR\u001b[0m\u001b[0;34m]\u001b[0m\u001b[0;34m)\u001b[0m\u001b[0;34m\u001b[0m\u001b[0;34m\u001b[0m\u001b[0m\n\u001b[0m\u001b[1;32m      2\u001b[0m \u001b[0mcv2\u001b[0m\u001b[0;34m.\u001b[0m\u001b[0mimshow\u001b[0m\u001b[0;34m(\u001b[0m\u001b[0;34m\"Merged\"\u001b[0m\u001b[0;34m,\u001b[0m\u001b[0mmerged\u001b[0m\u001b[0;34m)\u001b[0m\u001b[0;34m\u001b[0m\u001b[0;34m\u001b[0m\u001b[0m\n\u001b[1;32m      3\u001b[0m \u001b[0mcv2\u001b[0m\u001b[0;34m.\u001b[0m\u001b[0mwaitKey\u001b[0m\u001b[0;34m(\u001b[0m\u001b[0;36m0\u001b[0m\u001b[0;34m)\u001b[0m\u001b[0;34m\u001b[0m\u001b[0;34m\u001b[0m\u001b[0m\n\u001b[1;32m      4\u001b[0m \u001b[0mcv2\u001b[0m\u001b[0;34m.\u001b[0m\u001b[0mdestroyAllWindows\u001b[0m\u001b[0;34m(\u001b[0m\u001b[0;34m)\u001b[0m\u001b[0;34m\u001b[0m\u001b[0;34m\u001b[0m\u001b[0m\n\u001b[1;32m      5\u001b[0m \u001b[0mcv2\u001b[0m\u001b[0;34m.\u001b[0m\u001b[0mwaitKey\u001b[0m\u001b[0;34m(\u001b[0m\u001b[0;36m1\u001b[0m\u001b[0;34m)\u001b[0m\u001b[0;34m\u001b[0m\u001b[0;34m\u001b[0m\u001b[0m\n",
      "\u001b[0;31mNameError\u001b[0m: name 'B' is not defined"
     ]
    }
   ],
   "source": [
    "merged = cv2.merge([B,G+100,R])\n",
    "cv2.imshow(\"Merged\",merged)\n",
    "cv2.waitKey(0) \n",
    "cv2.destroyAllWindows()\n",
    "cv2.waitKey(1)"
   ]
  },
  {
   "cell_type": "code",
   "execution_count": 6,
   "metadata": {
    "ExecuteTime": {
     "end_time": "2019-11-19T14:25:54.885437Z",
     "start_time": "2019-11-19T14:24:57.052078Z"
    }
   },
   "outputs": [
    {
     "ename": "NameError",
     "evalue": "name 'bgr_img' is not defined",
     "output_type": "error",
     "traceback": [
      "\u001b[0;31m---------------------------------------------------------------------------\u001b[0m",
      "\u001b[0;31mNameError\u001b[0m                                 Traceback (most recent call last)",
      "\u001b[0;32m<ipython-input-6-5ba7309975b1>\u001b[0m in \u001b[0;36m<module>\u001b[0;34m\u001b[0m\n\u001b[0;32m----> 1\u001b[0;31m \u001b[0mblack\u001b[0m \u001b[0;34m=\u001b[0m \u001b[0mnp\u001b[0m\u001b[0;34m.\u001b[0m\u001b[0mzeros\u001b[0m\u001b[0;34m(\u001b[0m\u001b[0mbgr_img\u001b[0m\u001b[0;34m.\u001b[0m\u001b[0mshape\u001b[0m\u001b[0;34m[\u001b[0m\u001b[0;34m:\u001b[0m\u001b[0;36m2\u001b[0m\u001b[0;34m]\u001b[0m\u001b[0;34m,\u001b[0m \u001b[0mdtype\u001b[0m\u001b[0;34m=\u001b[0m\u001b[0;34m\"uint8\"\u001b[0m\u001b[0;34m)\u001b[0m\u001b[0;34m\u001b[0m\u001b[0;34m\u001b[0m\u001b[0m\n\u001b[0m\u001b[1;32m      2\u001b[0m \u001b[0;34m\u001b[0m\u001b[0m\n\u001b[1;32m      3\u001b[0m \u001b[0mcv2\u001b[0m\u001b[0;34m.\u001b[0m\u001b[0mimshow\u001b[0m\u001b[0;34m(\u001b[0m\u001b[0;34m\"Blue channel\"\u001b[0m\u001b[0;34m,\u001b[0m\u001b[0mcv2\u001b[0m\u001b[0;34m.\u001b[0m\u001b[0mmerge\u001b[0m\u001b[0;34m(\u001b[0m\u001b[0;34m[\u001b[0m\u001b[0mB\u001b[0m\u001b[0;34m,\u001b[0m\u001b[0mblack\u001b[0m\u001b[0;34m,\u001b[0m\u001b[0mblack\u001b[0m\u001b[0;34m]\u001b[0m\u001b[0;34m)\u001b[0m\u001b[0;34m)\u001b[0m\u001b[0;34m\u001b[0m\u001b[0;34m\u001b[0m\u001b[0m\n\u001b[1;32m      4\u001b[0m \u001b[0mcv2\u001b[0m\u001b[0;34m.\u001b[0m\u001b[0mwaitKey\u001b[0m\u001b[0;34m(\u001b[0m\u001b[0;36m0\u001b[0m\u001b[0;34m)\u001b[0m\u001b[0;34m\u001b[0m\u001b[0;34m\u001b[0m\u001b[0m\n\u001b[1;32m      5\u001b[0m \u001b[0mcv2\u001b[0m\u001b[0;34m.\u001b[0m\u001b[0mdestroyAllWindows\u001b[0m\u001b[0;34m(\u001b[0m\u001b[0;34m)\u001b[0m\u001b[0;34m\u001b[0m\u001b[0;34m\u001b[0m\u001b[0m\n",
      "\u001b[0;31mNameError\u001b[0m: name 'bgr_img' is not defined"
     ]
    }
   ],
   "source": [
    "black = np.zeros(bgr_img.shape[:2], dtype=\"uint8\")\n",
    "\n",
    "cv2.imshow(\"Blue channel\",cv2.merge([B,black,black]))\n",
    "cv2.waitKey(0) \n",
    "cv2.destroyAllWindows()\n",
    "\n",
    "cv2.imshow(\"Green channel\",cv2.merge([black,G,black]))\n",
    "cv2.waitKey(0) \n",
    "cv2.destroyAllWindows()\n",
    "\n",
    "cv2.imshow(\"Red Channel\",cv2.merge([black,black,R]))\n",
    "cv2.waitKey(0) \n",
    "cv2.destroyAllWindows()\n",
    "\n",
    "cv2.imshow(\"RGB\",cv2.merge([R,G,B]))\n",
    "cv2.waitKey(0) \n",
    "cv2.destroyAllWindows()\n",
    "\n",
    "cv2.imshow(\"BGR\",cv2.merge([B,G,R]))\n",
    "cv2.waitKey(0) \n",
    "cv2.destroyAllWindows()\n",
    "\n",
    "cv2.imshow(\"GBR\",cv2.merge([G,B,R]))\n",
    "cv2.waitKey(0) \n",
    "cv2.destroyAllWindows()\n",
    "\n",
    "cv2.imshow(\"BRG\",cv2.merge([B,R,G]))\n",
    "cv2.waitKey(0) \n",
    "cv2.destroyAllWindows()\n",
    "\n",
    "cv2.imshow(\"BBB\",cv2.merge([B,B,B]))\n",
    "cv2.waitKey(0) \n",
    "cv2.destroyAllWindows()\n",
    "\n",
    "cv2.imshow(\"RRR\",cv2.merge([R,R,R]))\n",
    "cv2.waitKey(0) \n",
    "cv2.destroyAllWindows()\n",
    "\n",
    "cv2.imshow(\"GGG\",cv2.merge([G,G,G]))\n",
    "cv2.waitKey(0) \n",
    "cv2.destroyAllWindows()\n",
    "\n",
    "cv2.waitKey(1) "
   ]
  },
  {
   "cell_type": "markdown",
   "metadata": {},
   "source": [
    "### HSV: Hue Saturation Value"
   ]
  },
  {
   "cell_type": "code",
   "execution_count": 7,
   "metadata": {
    "ExecuteTime": {
     "end_time": "2019-11-19T14:29:49.625236Z",
     "start_time": "2019-11-19T14:29:42.103147Z"
    }
   },
   "outputs": [
    {
     "ename": "NameError",
     "evalue": "name 'bgr_img' is not defined",
     "output_type": "error",
     "traceback": [
      "\u001b[0;31m---------------------------------------------------------------------------\u001b[0m",
      "\u001b[0;31mNameError\u001b[0m                                 Traceback (most recent call last)",
      "\u001b[0;32m<ipython-input-7-dee37581596b>\u001b[0m in \u001b[0;36m<module>\u001b[0;34m\u001b[0m\n\u001b[0;32m----> 1\u001b[0;31m \u001b[0mhsv_img\u001b[0m \u001b[0;34m=\u001b[0m \u001b[0mcv2\u001b[0m\u001b[0;34m.\u001b[0m\u001b[0mcvtColor\u001b[0m\u001b[0;34m(\u001b[0m\u001b[0mbgr_img\u001b[0m\u001b[0;34m,\u001b[0m \u001b[0mcv2\u001b[0m\u001b[0;34m.\u001b[0m\u001b[0mCOLOR_BGR2HSV\u001b[0m\u001b[0;34m)\u001b[0m\u001b[0;34m\u001b[0m\u001b[0;34m\u001b[0m\u001b[0m\n\u001b[0m\u001b[1;32m      2\u001b[0m \u001b[0;34m\u001b[0m\u001b[0m\n\u001b[1;32m      3\u001b[0m \u001b[0mhue\u001b[0m \u001b[0;34m=\u001b[0m \u001b[0mhsv_img\u001b[0m\u001b[0;34m[\u001b[0m\u001b[0;34m:\u001b[0m\u001b[0;34m,\u001b[0m\u001b[0;34m:\u001b[0m\u001b[0;34m,\u001b[0m\u001b[0;36m0\u001b[0m\u001b[0;34m]\u001b[0m\u001b[0;34m\u001b[0m\u001b[0;34m\u001b[0m\u001b[0m\n\u001b[1;32m      4\u001b[0m \u001b[0msaturation\u001b[0m \u001b[0;34m=\u001b[0m \u001b[0mhsv_img\u001b[0m\u001b[0;34m[\u001b[0m\u001b[0;34m:\u001b[0m\u001b[0;34m,\u001b[0m\u001b[0;34m:\u001b[0m\u001b[0;34m,\u001b[0m\u001b[0;36m1\u001b[0m\u001b[0;34m]\u001b[0m\u001b[0;34m\u001b[0m\u001b[0;34m\u001b[0m\u001b[0m\n\u001b[1;32m      5\u001b[0m \u001b[0mvalue\u001b[0m \u001b[0;34m=\u001b[0m \u001b[0mhsv_img\u001b[0m\u001b[0;34m[\u001b[0m\u001b[0;34m:\u001b[0m\u001b[0;34m,\u001b[0m\u001b[0;34m:\u001b[0m\u001b[0;34m,\u001b[0m\u001b[0;36m2\u001b[0m\u001b[0;34m]\u001b[0m\u001b[0;34m\u001b[0m\u001b[0;34m\u001b[0m\u001b[0m\n",
      "\u001b[0;31mNameError\u001b[0m: name 'bgr_img' is not defined"
     ]
    }
   ],
   "source": [
    "hsv_img = cv2.cvtColor(bgr_img, cv2.COLOR_BGR2HSV)\n",
    "\n",
    "hue = hsv_img[:,:,0]\n",
    "saturation = hsv_img[:,:,1]\n",
    "value = hsv_img[:,:,2]\n",
    "\n",
    "cv2.imshow('HSV Image',hsv_img)\n",
    "cv2.waitKey(0) \n",
    "cv2.destroyAllWindows()\n",
    "\n",
    "cv2.imshow('Hue Channel',hue)\n",
    "cv2.waitKey(0) \n",
    "cv2.destroyAllWindows()\n",
    "\n",
    "cv2.imshow('Saturation Channel',saturation)\n",
    "cv2.waitKey(0) \n",
    "cv2.destroyAllWindows()\n",
    "\n",
    "cv2.imshow('Value Channel',value)\n",
    "cv2.waitKey(0) \n",
    "cv2.destroyAllWindows()\n",
    "\n",
    "cv2.waitKey(1)"
   ]
  },
  {
   "cell_type": "code",
   "execution_count": 8,
   "metadata": {
    "ExecuteTime": {
     "end_time": "2019-11-19T14:29:59.768468Z",
     "start_time": "2019-11-19T14:29:56.316358Z"
    }
   },
   "outputs": [
    {
     "ename": "error",
     "evalue": "OpenCV(4.1.2) /Users/travis/build/skvark/opencv-python/opencv/modules/imgproc/src/color.cpp:182: error: (-215:Assertion failed) !_src.empty() in function 'cvtColor'\n",
     "output_type": "error",
     "traceback": [
      "\u001b[0;31m---------------------------------------------------------------------------\u001b[0m",
      "\u001b[0;31merror\u001b[0m                                     Traceback (most recent call last)",
      "\u001b[0;32m<ipython-input-8-73a5fb533e94>\u001b[0m in \u001b[0;36m<module>\u001b[0;34m\u001b[0m\n\u001b[1;32m      2\u001b[0m \u001b[0mbgr_flowers\u001b[0m \u001b[0;34m=\u001b[0m \u001b[0mcv2\u001b[0m\u001b[0;34m.\u001b[0m\u001b[0mimread\u001b[0m\u001b[0;34m(\u001b[0m\u001b[0;34m'img/purple-flowers.jpg'\u001b[0m\u001b[0;34m)\u001b[0m\u001b[0;34m\u001b[0m\u001b[0;34m\u001b[0m\u001b[0m\n\u001b[1;32m      3\u001b[0m \u001b[0;34m\u001b[0m\u001b[0m\n\u001b[0;32m----> 4\u001b[0;31m \u001b[0mhsv_flowers\u001b[0m \u001b[0;34m=\u001b[0m \u001b[0mcv2\u001b[0m\u001b[0;34m.\u001b[0m\u001b[0mcvtColor\u001b[0m\u001b[0;34m(\u001b[0m\u001b[0mbgr_flowers\u001b[0m\u001b[0;34m,\u001b[0m \u001b[0mcv2\u001b[0m\u001b[0;34m.\u001b[0m\u001b[0mCOLOR_BGR2HSV\u001b[0m\u001b[0;34m)\u001b[0m\u001b[0;34m\u001b[0m\u001b[0;34m\u001b[0m\u001b[0m\n\u001b[0m\u001b[1;32m      5\u001b[0m \u001b[0;34m\u001b[0m\u001b[0m\n\u001b[1;32m      6\u001b[0m \u001b[0mhue\u001b[0m \u001b[0;34m=\u001b[0m \u001b[0mhsv_flowers\u001b[0m\u001b[0;34m[\u001b[0m\u001b[0;34m:\u001b[0m\u001b[0;34m,\u001b[0m\u001b[0;34m:\u001b[0m\u001b[0;34m,\u001b[0m\u001b[0;36m0\u001b[0m\u001b[0;34m]\u001b[0m\u001b[0;34m\u001b[0m\u001b[0;34m\u001b[0m\u001b[0m\n",
      "\u001b[0;31merror\u001b[0m: OpenCV(4.1.2) /Users/travis/build/skvark/opencv-python/opencv/modules/imgproc/src/color.cpp:182: error: (-215:Assertion failed) !_src.empty() in function 'cvtColor'\n"
     ]
    }
   ],
   "source": [
    "#blue_red_flowers = cv2.imread('img/blue-red-flowers.png')\n",
    "bgr_flowers = cv2.imread('img/purple-flowers.jpg')\n",
    "\n",
    "hsv_flowers = cv2.cvtColor(bgr_flowers, cv2.COLOR_BGR2HSV)\n",
    "\n",
    "hue = hsv_flowers[:,:,0]\n",
    "saturation = hsv_flowers[:,:,1]\n",
    "value = hsv_flowers[:,:,2]\n",
    "\n",
    "cv2.imshow('HSV Image',hsv_flowers)\n",
    "cv2.waitKey(0) \n",
    "cv2.destroyAllWindows()\n",
    "\n",
    "cv2.imshow('Hue Channel',hue)\n",
    "cv2.waitKey(0) \n",
    "cv2.destroyAllWindows()\n",
    "\n",
    "cv2.imshow('Saturation Channel',saturation)\n",
    "cv2.waitKey(0) \n",
    "cv2.destroyAllWindows()\n",
    "\n",
    "cv2.imshow('Value Channel',value)\n",
    "cv2.waitKey(0) \n",
    "cv2.destroyAllWindows()\n",
    "\n",
    "cv2.waitKey(1)"
   ]
  },
  {
   "cell_type": "code",
   "execution_count": 9,
   "metadata": {
    "ExecuteTime": {
     "end_time": "2019-11-19T14:30:08.090126Z",
     "start_time": "2019-11-19T14:30:07.227693Z"
    }
   },
   "outputs": [
    {
     "ename": "error",
     "evalue": "OpenCV(4.1.2) /Users/travis/build/skvark/opencv-python/opencv/modules/imgproc/src/color.cpp:182: error: (-215:Assertion failed) !_src.empty() in function 'cvtColor'\n",
     "output_type": "error",
     "traceback": [
      "\u001b[0;31m---------------------------------------------------------------------------\u001b[0m",
      "\u001b[0;31merror\u001b[0m                                     Traceback (most recent call last)",
      "\u001b[0;32m<ipython-input-9-8a5ae2c9ebdb>\u001b[0m in \u001b[0;36m<module>\u001b[0;34m\u001b[0m\n\u001b[0;32m----> 1\u001b[0;31m \u001b[0mrgb_flowers\u001b[0m \u001b[0;34m=\u001b[0m \u001b[0mcv2\u001b[0m\u001b[0;34m.\u001b[0m\u001b[0mcvtColor\u001b[0m\u001b[0;34m(\u001b[0m\u001b[0mbgr_flowers\u001b[0m\u001b[0;34m,\u001b[0m\u001b[0mcv2\u001b[0m\u001b[0;34m.\u001b[0m\u001b[0mCOLOR_BGR2RGB\u001b[0m\u001b[0;34m)\u001b[0m\u001b[0;34m\u001b[0m\u001b[0;34m\u001b[0m\u001b[0m\n\u001b[0m\u001b[1;32m      2\u001b[0m \u001b[0mplt\u001b[0m\u001b[0;34m.\u001b[0m\u001b[0mfigure\u001b[0m\u001b[0;34m(\u001b[0m\u001b[0mfigsize\u001b[0m \u001b[0;34m=\u001b[0m \u001b[0;34m(\u001b[0m\u001b[0;36m20\u001b[0m\u001b[0;34m,\u001b[0m\u001b[0;36m15\u001b[0m\u001b[0;34m)\u001b[0m\u001b[0;34m)\u001b[0m\u001b[0;34m;\u001b[0m\u001b[0;34m\u001b[0m\u001b[0;34m\u001b[0m\u001b[0m\n\u001b[1;32m      3\u001b[0m \u001b[0mplt\u001b[0m\u001b[0;34m.\u001b[0m\u001b[0mimshow\u001b[0m\u001b[0;34m(\u001b[0m\u001b[0mrgb_flowers\u001b[0m\u001b[0;34m)\u001b[0m\u001b[0;34m;\u001b[0m\u001b[0;34m\u001b[0m\u001b[0;34m\u001b[0m\u001b[0m\n",
      "\u001b[0;31merror\u001b[0m: OpenCV(4.1.2) /Users/travis/build/skvark/opencv-python/opencv/modules/imgproc/src/color.cpp:182: error: (-215:Assertion failed) !_src.empty() in function 'cvtColor'\n"
     ]
    }
   ],
   "source": [
    "rgb_flowers = cv2.cvtColor(bgr_flowers,cv2.COLOR_BGR2RGB)\n",
    "plt.figure(figsize = (20,15));\n",
    "plt.imshow(rgb_flowers);"
   ]
  },
  {
   "cell_type": "code",
   "execution_count": 10,
   "metadata": {
    "ExecuteTime": {
     "end_time": "2019-11-19T14:33:10.702517Z",
     "start_time": "2019-11-19T14:33:09.825262Z"
    },
    "scrolled": false
   },
   "outputs": [
    {
     "ename": "NameError",
     "evalue": "name 'hsv_flowers' is not defined",
     "output_type": "error",
     "traceback": [
      "\u001b[0;31m---------------------------------------------------------------------------\u001b[0m",
      "\u001b[0;31mNameError\u001b[0m                                 Traceback (most recent call last)",
      "\u001b[0;32m<ipython-input-10-6ac975148762>\u001b[0m in \u001b[0;36m<module>\u001b[0;34m\u001b[0m\n\u001b[1;32m      1\u001b[0m \u001b[0mlower_range\u001b[0m \u001b[0;34m=\u001b[0m \u001b[0;34m(\u001b[0m\u001b[0;36m110\u001b[0m\u001b[0;34m,\u001b[0m\u001b[0;36m100\u001b[0m\u001b[0;34m,\u001b[0m\u001b[0;36m20\u001b[0m\u001b[0;34m)\u001b[0m\u001b[0;34m\u001b[0m\u001b[0;34m\u001b[0m\u001b[0m\n\u001b[1;32m      2\u001b[0m \u001b[0mupper_range\u001b[0m \u001b[0;34m=\u001b[0m \u001b[0;34m(\u001b[0m\u001b[0;36m140\u001b[0m\u001b[0;34m,\u001b[0m\u001b[0;36m255\u001b[0m\u001b[0;34m,\u001b[0m \u001b[0;36m255\u001b[0m\u001b[0;34m)\u001b[0m\u001b[0;34m\u001b[0m\u001b[0;34m\u001b[0m\u001b[0m\n\u001b[0;32m----> 3\u001b[0;31m \u001b[0mhsv_mask\u001b[0m \u001b[0;34m=\u001b[0m \u001b[0mcv2\u001b[0m\u001b[0;34m.\u001b[0m\u001b[0minRange\u001b[0m\u001b[0;34m(\u001b[0m\u001b[0mhsv_flowers\u001b[0m\u001b[0;34m,\u001b[0m \u001b[0mlower_range\u001b[0m\u001b[0;34m,\u001b[0m \u001b[0mupper_range\u001b[0m\u001b[0;34m)\u001b[0m\u001b[0;34m\u001b[0m\u001b[0;34m\u001b[0m\u001b[0m\n\u001b[0m\u001b[1;32m      4\u001b[0m \u001b[0;34m\u001b[0m\u001b[0m\n\u001b[1;32m      5\u001b[0m \u001b[0mmasked_image\u001b[0m \u001b[0;34m=\u001b[0m \u001b[0mnp\u001b[0m\u001b[0;34m.\u001b[0m\u001b[0mcopy\u001b[0m\u001b[0;34m(\u001b[0m\u001b[0mbgr_flowers\u001b[0m\u001b[0;34m)\u001b[0m\u001b[0;34m\u001b[0m\u001b[0;34m\u001b[0m\u001b[0m\n",
      "\u001b[0;31mNameError\u001b[0m: name 'hsv_flowers' is not defined"
     ]
    }
   ],
   "source": [
    "lower_range = (110,100,20)\n",
    "upper_range = (140,255, 255)\n",
    "hsv_mask = cv2.inRange(hsv_flowers, lower_range, upper_range)\n",
    "\n",
    "masked_image = np.copy(bgr_flowers)\n",
    "masked_image[hsv_mask == 0] = [0,0,0]\n",
    "\n",
    "plt.figure(figsize = (20,15));\n",
    "plt.imshow(cv2.cvtColor(masked_image,cv2.COLOR_BGR2RGB))"
   ]
  },
  {
   "cell_type": "markdown",
   "metadata": {
    "heading_collapsed": true
   },
   "source": [
    "#### The tricky part is to choose the right values for the lower and upper boundaries"
   ]
  },
  {
   "cell_type": "markdown",
   "metadata": {},
   "source": [
    "#### But today is your lucky day! and I will share with you my secret weapon to get it right!"
   ]
  },
  {
   "cell_type": "code",
   "execution_count": 11,
   "metadata": {
    "ExecuteTime": {
     "end_time": "2019-11-19T14:33:27.652103Z",
     "start_time": "2019-11-19T14:33:27.355016Z"
    }
   },
   "outputs": [
    {
     "ename": "NameError",
     "evalue": "name 'plt' is not defined",
     "output_type": "error",
     "traceback": [
      "\u001b[0;31m---------------------------------------------------------------------------\u001b[0m",
      "\u001b[0;31mNameError\u001b[0m                                 Traceback (most recent call last)",
      "\u001b[0;32m<ipython-input-11-a5cd4998a8fd>\u001b[0m in \u001b[0;36m<module>\u001b[0;34m\u001b[0m\n\u001b[1;32m      1\u001b[0m \u001b[0mhsv\u001b[0m \u001b[0;34m=\u001b[0m \u001b[0mcv2\u001b[0m\u001b[0;34m.\u001b[0m\u001b[0mimread\u001b[0m\u001b[0;34m(\u001b[0m\u001b[0;34m'img/hsv.png'\u001b[0m\u001b[0;34m)\u001b[0m\u001b[0;34m\u001b[0m\u001b[0;34m\u001b[0m\u001b[0m\n\u001b[0;32m----> 2\u001b[0;31m \u001b[0mplt\u001b[0m\u001b[0;34m.\u001b[0m\u001b[0mfigure\u001b[0m\u001b[0;34m(\u001b[0m\u001b[0mfigsize\u001b[0m \u001b[0;34m=\u001b[0m \u001b[0;34m(\u001b[0m\u001b[0;36m20\u001b[0m\u001b[0;34m,\u001b[0m\u001b[0;36m15\u001b[0m\u001b[0;34m)\u001b[0m\u001b[0;34m)\u001b[0m\u001b[0;34m;\u001b[0m\u001b[0;34m\u001b[0m\u001b[0;34m\u001b[0m\u001b[0m\n\u001b[0m\u001b[1;32m      3\u001b[0m \u001b[0mplt\u001b[0m\u001b[0;34m.\u001b[0m\u001b[0mimshow\u001b[0m\u001b[0;34m(\u001b[0m\u001b[0mcv2\u001b[0m\u001b[0;34m.\u001b[0m\u001b[0mcvtColor\u001b[0m\u001b[0;34m(\u001b[0m\u001b[0mhsv\u001b[0m\u001b[0;34m,\u001b[0m\u001b[0mcv2\u001b[0m\u001b[0;34m.\u001b[0m\u001b[0mCOLOR_BGR2RGB\u001b[0m\u001b[0;34m)\u001b[0m\u001b[0;34m)\u001b[0m\u001b[0;34m;\u001b[0m\u001b[0;34m\u001b[0m\u001b[0;34m\u001b[0m\u001b[0m\n\u001b[1;32m      4\u001b[0m \u001b[0;34m\u001b[0m\u001b[0m\n\u001b[1;32m      5\u001b[0m \u001b[0mlower_range\u001b[0m \u001b[0;34m=\u001b[0m \u001b[0;34m(\u001b[0m\u001b[0;36m110\u001b[0m\u001b[0;34m,\u001b[0m\u001b[0;36m100\u001b[0m\u001b[0;34m,\u001b[0m\u001b[0;36m20\u001b[0m\u001b[0;34m)\u001b[0m\u001b[0;34m\u001b[0m\u001b[0;34m\u001b[0m\u001b[0m\n",
      "\u001b[0;31mNameError\u001b[0m: name 'plt' is not defined"
     ]
    }
   ],
   "source": [
    "hsv = cv2.imread('img/hsv.png')\n",
    "plt.figure(figsize = (20,15));\n",
    "plt.imshow(cv2.cvtColor(hsv,cv2.COLOR_BGR2RGB));\n",
    "\n",
    "lower_range = (110,100,20)\n",
    "upper_range = (140,255, 255)"
   ]
  },
  {
   "cell_type": "markdown",
   "metadata": {},
   "source": [
    "#### So!, how does it work?"
   ]
  },
  {
   "cell_type": "markdown",
   "metadata": {},
   "source": [
    "The X axis is **Hue** ranging [from 0 to 180] and the Y axis is **Saturation** ranging [from 0 to 255]  \n",
    "As for **Value** you can play around with it but 20 and 255 normally play well"
   ]
  },
  {
   "cell_type": "markdown",
   "metadata": {},
   "source": [
    "#### The mask we created before was quite good but we can make it better by adjusting the boundaries!"
   ]
  },
  {
   "cell_type": "code",
   "execution_count": null,
   "metadata": {
    "ExecuteTime": {
     "end_time": "2019-11-19T14:34:35.940770Z",
     "start_time": "2019-11-19T14:34:35.076088Z"
    }
   },
   "outputs": [],
   "source": [
    "lower_range = (110,50,20)\n",
    "upper_range = (160,255, 255)\n",
    "hsv_mask = cv2.inRange(hsv_flowers, lower_range, upper_range)\n",
    "\n",
    "masked_image = np.copy(bgr_flowers)\n",
    "masked_image[hsv_mask == 0] = [0,0,0]\n",
    "\n",
    "plt.figure(figsize = (20,15));\n",
    "plt.imshow(cv2.cvtColor(masked_image,cv2.COLOR_BGR2RGB))"
   ]
  },
  {
   "cell_type": "markdown",
   "metadata": {},
   "source": [
    "#### Ok!, lets try now to see the green areas!"
   ]
  },
  {
   "cell_type": "code",
   "execution_count": null,
   "metadata": {
    "ExecuteTime": {
     "end_time": "2019-11-19T14:38:02.108636Z",
     "start_time": "2019-11-19T14:38:01.119251Z"
    }
   },
   "outputs": [],
   "source": [
    "lower_range = (40,0,20)\n",
    "upper_range = (80,255, 255)\n",
    "green_hsv_mask = cv2.inRange(hsv_flowers, lower_range, upper_range)\n",
    "\n",
    "masked_image = np.copy(bgr_flowers)\n",
    "masked_image[green_hsv_mask == 0] = [0,0,0]\n",
    "\n",
    "plt.figure(figsize = (20,15));\n",
    "plt.imshow(cv2.cvtColor(masked_image,cv2.COLOR_BGR2RGB));"
   ]
  },
  {
   "cell_type": "code",
   "execution_count": null,
   "metadata": {
    "ExecuteTime": {
     "end_time": "2019-11-19T14:38:33.055225Z",
     "start_time": "2019-11-19T14:38:32.160492Z"
    }
   },
   "outputs": [],
   "source": [
    "field = np.copy(bgr_flowers)\n",
    "hsv_field = cv2.cvtColor(field, cv2.COLOR_BGR2HSV)\n",
    "\n",
    "mask = green_hsv_mask + hsv_mask\n",
    "\n",
    "field[mask == 0] = [0,0,0]\n",
    "\n",
    "plt.figure(figsize = (20,15));\n",
    "plt.imshow(cv2.cvtColor(field,cv2.COLOR_BGR2RGB));"
   ]
  },
  {
   "cell_type": "markdown",
   "metadata": {
    "ExecuteTime": {
     "end_time": "2019-08-03T16:16:41.586811Z",
     "start_time": "2019-08-03T16:16:41.580866Z"
    }
   },
   "source": [
    "#### Allright, what about if we do it with M&Ms!"
   ]
  },
  {
   "cell_type": "code",
   "execution_count": null,
   "metadata": {
    "ExecuteTime": {
     "end_time": "2019-11-19T14:39:09.957995Z",
     "start_time": "2019-11-19T14:39:09.333538Z"
    },
    "scrolled": false
   },
   "outputs": [],
   "source": [
    "img = cv2.imread('img/m.jpg')\n",
    "plt.figure(figsize = (20,15));\n",
    "hsv_img=cv2.cvtColor(img,cv2.COLOR_BGR2HSV)\n",
    "rgb_img=cv2.cvtColor(img,cv2.COLOR_BGR2RGB)\n",
    "\n",
    "plt.imshow(cv2.cvtColor(img,cv2.COLOR_BGR2RGB));"
   ]
  },
  {
   "cell_type": "code",
   "execution_count": null,
   "metadata": {
    "ExecuteTime": {
     "end_time": "2019-11-19T14:39:23.171577Z",
     "start_time": "2019-11-19T14:39:22.790933Z"
    }
   },
   "outputs": [],
   "source": [
    "blue_l_range=(80,10,20)\n",
    "blue_u_range=(130,255,255)\n",
    "blue_mask=cv2.inRange(hsv_img,blue_l_range,blue_u_range)\n",
    "mask_blue_mm=np.copy(hsv_img)\n",
    "mask_blue_mm[blue_mask==0]=[0,0,0]\n",
    "#plot the histogram\n",
    "plt.figure(figsize=(20,15))\n",
    "plt.imshow(cv2.cvtColor(mask_blue_mm,cv2.COLOR_HSV2RGB))"
   ]
  },
  {
   "cell_type": "code",
   "execution_count": null,
   "metadata": {
    "ExecuteTime": {
     "end_time": "2019-11-19T14:39:42.232166Z",
     "start_time": "2019-11-19T14:39:41.843412Z"
    }
   },
   "outputs": [],
   "source": [
    "low_range_green = (35,50, 20)\n",
    "upper_range_green = (75, 255,255)\n",
    "green_mask = cv2.inRange(hsv_img, low_range_green,upper_range_green )\n",
    "\n",
    "green_masked_img = np.copy(bgr_img)\n",
    "green_masked_img[green_mask==0] = [0,0,0]\n",
    "\n",
    "plt.figure(figsize=(20,15))\n",
    "plt.imshow(cv2.cvtColor(green_masked_img, cv2.COLOR_BGR2RGB))"
   ]
  },
  {
   "cell_type": "code",
   "execution_count": null,
   "metadata": {
    "ExecuteTime": {
     "end_time": "2019-11-19T14:39:50.013297Z",
     "start_time": "2019-11-19T14:39:49.588290Z"
    }
   },
   "outputs": [],
   "source": [
    "blue_green_mask = blue_mask + green_mask\n",
    "\n",
    "bluegreen_masked = np.copy(bgr_img)\n",
    "\n",
    "bluegreen_masked[blue_green_mask== 0]= [0,0,0]\n",
    "\n",
    "plt.figure(figsize= (20,15))\n",
    "plt.imshow (cv2.cvtColor(bluegreen_masked, cv2.COLOR_BGR2RGB))"
   ]
  },
  {
   "cell_type": "code",
   "execution_count": null,
   "metadata": {
    "ExecuteTime": {
     "end_time": "2019-11-19T14:40:32.223935Z",
     "start_time": "2019-11-19T14:40:31.596814Z"
    }
   },
   "outputs": [],
   "source": [
    "#ANOTHER COPY?\n",
    "original_img = np.copy(bgr_img)\n",
    "\n",
    "#OPACITY?\n",
    "opacity = .3\n",
    "\n",
    "weighted_img = cv2.addWeighted(original_img, opacity, bluegreen_masked, 1-opacity, 0)\n",
    "plt.figure(figsize=(20,20))\n",
    "plt.imshow(cv2.cvtColor(weighted_img, cv2.COLOR_BGR2RGB))\n",
    "\n",
    "\n",
    "\n",
    "#SHOW BOTH IMAGES AT THE SAME TIME"
   ]
  },
  {
   "cell_type": "code",
   "execution_count": null,
   "metadata": {},
   "outputs": [],
   "source": []
  },
  {
   "cell_type": "code",
   "execution_count": null,
   "metadata": {},
   "outputs": [],
   "source": []
  },
  {
   "cell_type": "markdown",
   "metadata": {},
   "source": [
    "##### Spoiler! the solution is here!"
   ]
  },
  {
   "cell_type": "code",
   "execution_count": null,
   "metadata": {
    "ExecuteTime": {
     "end_time": "2019-11-18T07:49:12.834239Z",
     "start_time": "2019-11-18T07:49:12.453952Z"
    }
   },
   "outputs": [],
   "source": [
    "# set the lower and upper bounds\n",
    "lower_bound = (90,0,20)\n",
    "upper_bound = (120,255,255)\n",
    "\n",
    "# create hsv version of the image\n",
    "hsv = cv2.cvtColor(img, cv2.COLOR_BGR2HSV)\n",
    "# create copy for the masked image\n",
    "masked_img = np.copy(img)\n",
    "# define the mask \n",
    "mask = cv2.inRange(hsv,lower_bound,upper_bound)\n",
    "# apply the mask\n",
    "masked_img[mask == 0] = [0,0,0]\n",
    "# plot\n",
    "plt.figure(figsize=(20,15))\n",
    "plt.imshow(cv2.cvtColor(masked_img,cv2.COLOR_BGR2RGB))"
   ]
  },
  {
   "cell_type": "code",
   "execution_count": null,
   "metadata": {
    "ExecuteTime": {
     "end_time": "2019-11-18T07:49:13.589436Z",
     "start_time": "2019-11-18T07:49:13.405324Z"
    }
   },
   "outputs": [],
   "source": [
    "lower_bound = (40,0,20)\n",
    "upper_bound = (70, 255, 255)\n",
    "masked_again = np.copy(img)\n",
    "mask_green = cv2.inRange(hsv, lower_bound, upper_bound)\n",
    "masked_again[mask_green == 0] = [0,0,0]\n",
    "\n",
    "#plt.imshow(masked_again)\n",
    "plt.imshow(cv2.cvtColor(masked_again,cv2.COLOR_BGR2RGB))"
   ]
  },
  {
   "cell_type": "code",
   "execution_count": null,
   "metadata": {
    "ExecuteTime": {
     "end_time": "2019-11-18T07:49:14.497854Z",
     "start_time": "2019-11-18T07:49:14.081176Z"
    }
   },
   "outputs": [],
   "source": [
    "combine_mask = mask + mask_green\n",
    "\n",
    "masked_comb = np.copy(img)\n",
    "# apply the mask\n",
    "masked_comb[combine_mask== 0] = [0,0,0]\n",
    "# plot\n",
    "plt.figure(figsize=(20,15))\n",
    "plt.imshow(cv2.cvtColor(masked_comb,cv2.COLOR_BGR2RGB))"
   ]
  },
  {
   "cell_type": "markdown",
   "metadata": {
    "heading_collapsed": true
   },
   "source": [
    "##### Spoiler! the solution is here!"
   ]
  },
  {
   "cell_type": "markdown",
   "metadata": {
    "hidden": true
   },
   "source": [
    "###### Allright, what about if we do it with Skittles?"
   ]
  },
  {
   "cell_type": "code",
   "execution_count": null,
   "metadata": {
    "ExecuteTime": {
     "end_time": "2019-11-18T07:49:00.107419Z",
     "start_time": "2019-11-18T07:48:59.717189Z"
    },
    "hidden": true
   },
   "outputs": [],
   "source": [
    "img = cv2.imread('img/m.jpg')\n",
    "hsv_chocolate = cv2.cvtColor(img, cv2.COLOR_BGR2HSV)\n",
    "\n",
    "lower_range = (40,0,20)\n",
    "upper_range = (80,255, 255)\n",
    "green_hsv_mask = cv2.inRange(hsv_chocolate, lower_range, upper_range)\n",
    "\n",
    "masked_image = np.copy(img)\n",
    "masked_image[green_hsv_mask == 0] = [0,0,0]\n",
    "\n",
    "plt.figure(figsize = (20,15));\n",
    "plt.imshow(cv2.cvtColor(masked_image,cv2.COLOR_BGR2RGB));"
   ]
  },
  {
   "cell_type": "code",
   "execution_count": null,
   "metadata": {
    "ExecuteTime": {
     "end_time": "2019-11-18T07:49:00.963149Z",
     "start_time": "2019-11-18T07:49:00.356457Z"
    },
    "hidden": true
   },
   "outputs": [],
   "source": [
    "# (1) create a copy of the original:\n",
    "overlay = img\n",
    "\n",
    "# (3) blend with the original:\n",
    "opacity = 0.5\n",
    "masked_image = cv2.addWeighted(overlay, opacity, masked_image, 1 - opacity, 0, masked_image)\n",
    " \n",
    "plt.figure(figsize = (20,15))\n",
    "plt.imshow(cv2.cvtColor(masked_image,cv2.COLOR_BGR2RGB));"
   ]
  },
  {
   "cell_type": "code",
   "execution_count": null,
   "metadata": {
    "ExecuteTime": {
     "end_time": "2019-11-18T07:49:02.200997Z",
     "start_time": "2019-11-18T07:49:01.829118Z"
    },
    "hidden": true
   },
   "outputs": [],
   "source": [
    "img = cv2.imread('img/m.jpg')\n",
    "hsv_chocolate = cv2.cvtColor(img, cv2.COLOR_BGR2HSV)\n",
    "\n",
    "lower_range = (0,200,0)\n",
    "upper_range = (20,255, 255)\n",
    "orange_hsv_mask = cv2.inRange(hsv_chocolate, lower_range, upper_range)\n",
    "\n",
    "masked_image = np.copy(img)\n",
    "masked_image[orange_hsv_mask == 0] = [0,0,0]\n",
    "\n",
    "plt.figure(figsize = (20,15));\n",
    "plt.imshow(cv2.cvtColor(masked_image,cv2.COLOR_BGR2RGB));"
   ]
  },
  {
   "cell_type": "code",
   "execution_count": null,
   "metadata": {
    "ExecuteTime": {
     "end_time": "2019-11-18T07:49:03.316856Z",
     "start_time": "2019-11-18T07:49:02.720701Z"
    },
    "hidden": true
   },
   "outputs": [],
   "source": [
    "# (1) create a copy of the original:\n",
    "overlay = img\n",
    "\n",
    "# (3) blend with the original:\n",
    "opacity = 0.5\n",
    "cv2.addWeighted(overlay, opacity, masked_image, 1 - opacity, 0, masked_image)\n",
    " \n",
    "plt.figure(figsize = (20,15))\n",
    "plt.imshow(cv2.cvtColor(masked_image,cv2.COLOR_BGR2RGB));"
   ]
  },
  {
   "cell_type": "markdown",
   "metadata": {
    "heading_collapsed": true
   },
   "source": [
    "##### What if I want to see both orange and green at the same time?"
   ]
  },
  {
   "cell_type": "code",
   "execution_count": null,
   "metadata": {
    "ExecuteTime": {
     "end_time": "2019-08-19T14:39:14.871974Z",
     "start_time": "2019-08-19T14:39:13.826476Z"
    },
    "hidden": true
   },
   "outputs": [],
   "source": [
    "img = cv2.imread('img/m.jpg')\n",
    "hsv_chocolate = cv2.cvtColor(img, cv2.COLOR_BGR2HSV)\n",
    "\n",
    "mask = green_hsv_mask + orange_hsv_mask\n",
    "\n",
    "masked_image = np.copy(img)\n",
    "masked_image[mask == 0] = [0,0,0]\n",
    "\n",
    "plt.figure(figsize = (20,15));\n",
    "plt.imshow(cv2.cvtColor(masked_image,cv2.COLOR_BGR2RGB));"
   ]
  },
  {
   "cell_type": "code",
   "execution_count": null,
   "metadata": {
    "ExecuteTime": {
     "end_time": "2019-08-19T14:38:07.622905Z",
     "start_time": "2019-08-19T14:38:07.590404Z"
    },
    "hidden": true
   },
   "outputs": [],
   "source": [
    "# (1) create a copy of the original:\n",
    "overlay = img\n",
    "\n",
    "# (3) blend with the original:\n",
    "opacity = 0.5\n",
    "cv2.addWeighted(overlay, opacity, masked_image, 1 - opacity, 0, masked_image)\n",
    " \n",
    "plt.figure(figsize = (20,15))\n",
    "plt.imshow(cv2.cvtColor(masked_image,cv2.COLOR_BGR2RGB));"
   ]
  },
  {
   "cell_type": "markdown",
   "metadata": {},
   "source": [
    "## Working with video"
   ]
  },
  {
   "cell_type": "markdown",
   "metadata": {},
   "source": [
    "### Capture video in real time"
   ]
  },
  {
   "cell_type": "code",
   "execution_count": null,
   "metadata": {
    "ExecuteTime": {
     "end_time": "2019-11-21T09:11:29.044544Z",
     "start_time": "2019-11-21T09:11:03.368247Z"
    }
   },
   "outputs": [],
   "source": [
    "cap = cv2.VideoCapture(0)\n",
    "\n",
    "while(True):\n",
    "    # Capture frame-by-frame\n",
    "    ret, frame = cap.read()\n",
    "\n",
    "    # Our operations on the frame come here\n",
    "    #img = frame\n",
    "    #img = cv2.cvtColor(frame, cv2.COLOR_BGR2GRAY)\n",
    "    \n",
    "    \n",
    "    # Display the resulting frame\n",
    "    cv2.imshow('Video from OpenCV!, press \\'q\\' to close',frame)\n",
    "    if cv2.waitKey(1) & 0xFF == ord('q'):\n",
    "        cv2.imwrite('camera.jpg', frame)\n",
    "        break\n",
    "\n",
    "# When everything done, release the capture\n",
    "cap.release()\n",
    "cv2.destroyAllWindows()\n",
    "cv2.waitKey(1) "
   ]
  },
  {
   "cell_type": "markdown",
   "metadata": {},
   "source": [
    "### Playing a video file"
   ]
  },
  {
   "cell_type": "code",
   "execution_count": null,
   "metadata": {
    "ExecuteTime": {
     "end_time": "2019-11-19T14:43:43.395811Z",
     "start_time": "2019-11-19T14:43:37.799257Z"
    }
   },
   "outputs": [],
   "source": [
    "video = cv2.VideoCapture('video.mp4')\n",
    "\n",
    "while(video.isOpened()):\n",
    "    check, frame = video.read()\n",
    "    if frame is not None:\n",
    "        #img = cv2.cvtColor(frame, cv2.COLOR_BGR2GRAY)\n",
    "        img = frame\n",
    "        cv2.imshow('frame',img)        \n",
    "        if cv2.waitKey(30) & 0xFF == ord('q'):\n",
    "            break\n",
    "    else:\n",
    "        break\n",
    "\n",
    "\n",
    "video.release()\n",
    "cv2.destroyAllWindows()\n",
    "cv2.waitKey(1)"
   ]
  },
  {
   "cell_type": "markdown",
   "metadata": {},
   "source": [
    "## Mini projects!"
   ]
  },
  {
   "cell_type": "markdown",
   "metadata": {},
   "source": [
    "### Level 1"
   ]
  },
  {
   "cell_type": "markdown",
   "metadata": {},
   "source": [
    "#### Ball tracker"
   ]
  },
  {
   "cell_type": "markdown",
   "metadata": {},
   "source": [
    "1. Given an image with a ball on it isolate the ball"
   ]
  },
  {
   "cell_type": "markdown",
   "metadata": {},
   "source": [
    "### Level 2"
   ]
  },
  {
   "cell_type": "markdown",
   "metadata": {
    "heading_collapsed": true
   },
   "source": [
    "#### Ball tracker"
   ]
  },
  {
   "cell_type": "markdown",
   "metadata": {
    "hidden": true
   },
   "source": [
    "1. Make it track a ball in real time (either with a video or a webcam)"
   ]
  },
  {
   "cell_type": "markdown",
   "metadata": {
    "heading_collapsed": true
   },
   "source": [
    "### Level 3"
   ]
  },
  {
   "cell_type": "markdown",
   "metadata": {
    "heading_collapsed": true,
    "hidden": true
   },
   "source": [
    "#### Ball Tracker"
   ]
  },
  {
   "cell_type": "markdown",
   "metadata": {
    "hidden": true
   },
   "source": [
    "1. Can you make it track two or more different color balls at the same time?"
   ]
  }
 ],
 "metadata": {
  "kernelspec": {
   "display_name": "Python3 cv2 Bigsurf",
   "language": "python",
   "name": "cv2"
  },
  "language_info": {
   "codemirror_mode": {
    "name": "ipython",
    "version": 3
   },
   "file_extension": ".py",
   "mimetype": "text/x-python",
   "name": "python",
   "nbconvert_exporter": "python",
   "pygments_lexer": "ipython3",
   "version": "3.9.2"
  }
 },
 "nbformat": 4,
 "nbformat_minor": 2
}
